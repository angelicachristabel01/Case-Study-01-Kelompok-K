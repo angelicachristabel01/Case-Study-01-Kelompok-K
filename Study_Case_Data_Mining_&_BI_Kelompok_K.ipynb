{
  "nbformat": 4,
  "nbformat_minor": 0,
  "metadata": {
    "colab": {
      "provenance": [],
      "collapsed_sections": [],
      "include_colab_link": true
    },
    "kernelspec": {
      "name": "python3",
      "display_name": "Python 3"
    },
    "language_info": {
      "name": "python"
    }
  },
  "cells": [
    {
      "cell_type": "markdown",
      "metadata": {
        "id": "view-in-github",
        "colab_type": "text"
      },
      "source": [
        "<a href=\"https://colab.research.google.com/github/angelicachristabel01/Case-Study-01-Kelompok-K/blob/main/Study_Case_Data_Mining_%26_BI_Kelompok_K.ipynb\" target=\"_parent\"><img src=\"https://colab.research.google.com/assets/colab-badge.svg\" alt=\"Open In Colab\"/></a>"
      ]
    },
    {
      "cell_type": "markdown",
      "source": [
        "##**KELOMPOK K**\n",
        "\n",
        "\n",
        "\n",
        "1.   Maria Angelica Christabel (2006483593)\n",
        "2.   Auranissa Efrida P (2006571192)\n",
        "3.   Ghefira Nur F. (2006483694)\n",
        "4.   Inez Aurellia R (2006571204)\n",
        "5.   Laily Nur Azizah (2006464234)"
      ],
      "metadata": {
        "id": "8V4cAY3YBQgY"
      }
    },
    {
      "cell_type": "markdown",
      "source": [
        "##**JUDUL**"
      ],
      "metadata": {
        "id": "14tAVcJZBt6J"
      }
    },
    {
      "cell_type": "markdown",
      "source": [
        "##**Problem Statement**\n",
        "\n",
        "Di studi kasus pertama, anda mendapat bantuan keterangan dari manajemen. Setelah berdiskusi *over lunch* dengan beberapa manager senior, anda mendengar bahwa mereka ingin mengetahui:\n",
        "\n",
        "1. Kualitas data yang dimiliki perusahaan.\n",
        "2. Apakah ada saran perbaikan data ke DE/DBA perusahaan agar RPPI menjadi *data driven company* yang unggul.\n",
        "3. Dari data yang ada, apakah ada kecenderungan rumah disuatu kota lebih mahal/murah dibandingkan kota lain?\n",
        "4. Dari data yang ada, apakah bisa dibuat rekomendasi sebaiknya RPPI membuat kantor cabang berikutnya di kota mana? Mengapa? (Asumsikan RPPI belum memiliki cabang di kota-kota yang disebutkan di data).\n",
        "5. Rumah dengan karakteristik seperti apa yang paling banyak dijual?\n",
        "6. Jika RPPI ingin melakukan investasi (max) Rp. 25 Milyar minggu besok, apakah dari data anda dapat memberikan rekomendasi rumah mana saja yang akan berpotensi menghasilkan keuntungan bagi perusahaan?\n",
        "7. Dan yang terpenting, informasi berharga apa lagi yang bisa anda dapatkan dari data?\n",
        "\n",
        "\n",
        "\n",
        "\n"
      ],
      "metadata": {
        "id": "FPObAxdZB5jM"
      }
    },
    {
      "cell_type": "markdown",
      "source": [
        "##**Data Cleaning and Pre-Processing**"
      ],
      "metadata": {
        "id": "IiatIYwLCsGl"
      }
    },
    {
      "cell_type": "code",
      "source": [
        "#import module yang dibutuhkan\n",
        "import numpy as np, pandas as pd, seaborn as sns\n",
        "import matplotlib.pyplot as plt\n",
        "import scipy.stats as stats"
      ],
      "metadata": {
        "id": "gtdyuyG_Cz64"
      },
      "execution_count": null,
      "outputs": []
    },
    {
      "cell_type": "code",
      "source": [
        "# Loading Data:\n",
        "import pandas as pd\n",
        "\n",
        "try: # Running Locally, yakinkan \"file_\" berada di folder \"data\"\n",
        "    jkt = pd.read_csv(\"data/jakarta.csv\", low_memory = False, encoding='utf8')\n",
        "    dpk = pd.read_csv(\"data/depok.csv\", low_memory = False, encoding='utf8')\n",
        "    bgr = pd.read_csv(\"data/bogor.csv\", low_memory = False, encoding='utf8')\n",
        "    tgr = pd.read_csv(\"data/tangerang.csv\", low_memory = False, encoding='utf8')\n",
        "    bks = pd.read_csv(\"data/bekasi.csv\", low_memory = False, encoding='utf8')    \n",
        "except: # Running in Google Colab\n",
        "    !mkdir data\n",
        "    !wget -P data/ https://raw.githubusercontent.com/taufiksutanto/ADM-Case-01-EDA/master/data/jakarta.csv\n",
        "    !wget -P data/ https://raw.githubusercontent.com/taufiksutanto/ADM-Case-01-EDA/master/data/depok.csv\n",
        "    !wget -P data/ https://raw.githubusercontent.com/taufiksutanto/ADM-Case-01-EDA/master/data/bogor.csv\n",
        "    !wget -P data/ https://raw.githubusercontent.com/taufiksutanto/ADM-Case-01-EDA/master/data/tangerang.csv\n",
        "    !wget -P data/ https://raw.githubusercontent.com/taufiksutanto/ADM-Case-01-EDA/master/data/bekasi.csv\n",
        "    jkt = pd.read_csv(\"data/jakarta.csv\", low_memory = False, encoding='utf8')\n",
        "    dpk = pd.read_csv(\"data/depok.csv\", low_memory = False, encoding='utf8')\n",
        "    bgr = pd.read_csv(\"data/bogor.csv\", low_memory = False, encoding='utf8')\n",
        "    tgr = pd.read_csv(\"data/tangerang.csv\", low_memory = False, encoding='utf8')\n",
        "    bks = pd.read_csv(\"data/bekasi.csv\", low_memory = False, encoding='utf8')\n",
        "    \n",
        "jkt.shape, dpk.shape, bgr.shape, tgr.shape, bks.shape"
      ],
      "metadata": {
        "colab": {
          "base_uri": "https://localhost:8080/"
        },
        "id": "IBq9SUlGHa85",
        "outputId": "c34392fd-787e-4aa3-9485-a166c4ede340"
      },
      "execution_count": null,
      "outputs": [
        {
          "output_type": "execute_result",
          "data": {
            "text/plain": [
              "((1024, 26), (998, 26), (999, 26), (128, 26), (992, 26))"
            ]
          },
          "metadata": {},
          "execution_count": 11
        }
      ]
    },
    {
      "cell_type": "markdown",
      "source": [
        "##**Jakarta**\n"
      ],
      "metadata": {
        "id": "33-BfQ2wHsKt"
      }
    },
    {
      "cell_type": "code",
      "source": [
        "jkt.info()"
      ],
      "metadata": {
        "colab": {
          "base_uri": "https://localhost:8080/"
        },
        "id": "bYKhXxUBHzRc",
        "outputId": "467765aa-d5a3-4139-9669-2c180bbafaf5"
      },
      "execution_count": null,
      "outputs": [
        {
          "output_type": "stream",
          "name": "stdout",
          "text": [
            "<class 'pandas.core.frame.DataFrame'>\n",
            "RangeIndex: 1024 entries, 0 to 1023\n",
            "Data columns (total 26 columns):\n",
            " #   Column       Non-Null Count  Dtype  \n",
            "---  ------       --------------  -----  \n",
            " 0   created_at   121 non-null    object \n",
            " 1   LT           121 non-null    float64\n",
            " 2   LB           121 non-null    float64\n",
            " 3   KT           121 non-null    float64\n",
            " 4   KM           121 non-null    float64\n",
            " 5   garasi       44 non-null     float64\n",
            " 6   carport      90 non-null     float64\n",
            " 7   lokasi       121 non-null    object \n",
            " 8   sertifikat   119 non-null    object \n",
            " 9   listrik      120 non-null    float64\n",
            " 10  hadap        36 non-null     object \n",
            " 11  harga        121 non-null    float64\n",
            " 12  URL          121 non-null    object \n",
            " 13  deskripsi    112 non-null    object \n",
            " 14  Unnamed: 14  0 non-null      float64\n",
            " 15  Unnamed: 15  0 non-null      float64\n",
            " 16  Unnamed: 16  0 non-null      float64\n",
            " 17  Unnamed: 17  0 non-null      float64\n",
            " 18  Unnamed: 18  0 non-null      float64\n",
            " 19  Unnamed: 19  0 non-null      float64\n",
            " 20  Unnamed: 20  0 non-null      float64\n",
            " 21  Unnamed: 21  0 non-null      float64\n",
            " 22  Unnamed: 22  0 non-null      float64\n",
            " 23  Unnamed: 23  0 non-null      float64\n",
            " 24  Unnamed: 24  0 non-null      float64\n",
            " 25  Unnamed: 25  0 non-null      float64\n",
            "dtypes: float64(20), object(6)\n",
            "memory usage: 208.1+ KB\n"
          ]
        }
      ]
    },
    {
      "cell_type": "code",
      "source": [
        "jkt.isnull().all()"
      ],
      "metadata": {
        "colab": {
          "base_uri": "https://localhost:8080/"
        },
        "id": "IhH_RPi2H2ZZ",
        "outputId": "91eabb4e-de3c-4c49-b80c-4037a6ac9de4"
      },
      "execution_count": null,
      "outputs": [
        {
          "output_type": "execute_result",
          "data": {
            "text/plain": [
              "created_at     False\n",
              "LT             False\n",
              "LB             False\n",
              "KT             False\n",
              "KM             False\n",
              "garasi         False\n",
              "carport        False\n",
              "lokasi         False\n",
              "sertifikat     False\n",
              "listrik        False\n",
              "hadap          False\n",
              "harga          False\n",
              "URL            False\n",
              "deskripsi      False\n",
              "Unnamed: 14     True\n",
              "Unnamed: 15     True\n",
              "Unnamed: 16     True\n",
              "Unnamed: 17     True\n",
              "Unnamed: 18     True\n",
              "Unnamed: 19     True\n",
              "Unnamed: 20     True\n",
              "Unnamed: 21     True\n",
              "Unnamed: 22     True\n",
              "Unnamed: 23     True\n",
              "Unnamed: 24     True\n",
              "Unnamed: 25     True\n",
              "dtype: bool"
            ]
          },
          "metadata": {},
          "execution_count": 13
        }
      ]
    },
    {
      "cell_type": "code",
      "source": [
        "jkt.drop(['Unnamed: 14','Unnamed: 15','Unnamed: 16','Unnamed: 17','Unnamed: 18','Unnamed: 19','Unnamed: 20','Unnamed: 21','Unnamed: 22','Unnamed: 23','Unnamed: 24','Unnamed: 25'], axis=1, inplace=True)"
      ],
      "metadata": {
        "id": "kdBkwQAAIPXT"
      },
      "execution_count": null,
      "outputs": []
    },
    {
      "cell_type": "code",
      "source": [
        "jkt = jkt.drop(jkt.index[121:1024])"
      ],
      "metadata": {
        "id": "DJwL6rJXIg1Q"
      },
      "execution_count": null,
      "outputs": []
    },
    {
      "cell_type": "code",
      "source": [
        "jkt.isna().sum()"
      ],
      "metadata": {
        "id": "H3hFD1pxKYM2",
        "outputId": "b00d0e82-c0cb-448d-cfee-9ac63701ac2a",
        "colab": {
          "base_uri": "https://localhost:8080/"
        }
      },
      "execution_count": null,
      "outputs": [
        {
          "output_type": "execute_result",
          "data": {
            "text/plain": [
              "created_at     0\n",
              "LT             0\n",
              "LB             0\n",
              "KT             0\n",
              "KM             0\n",
              "garasi        77\n",
              "carport       31\n",
              "lokasi         0\n",
              "sertifikat     2\n",
              "listrik        1\n",
              "hadap         85\n",
              "harga          0\n",
              "URL            0\n",
              "deskripsi      9\n",
              "dtype: int64"
            ]
          },
          "metadata": {},
          "execution_count": 16
        }
      ]
    },
    {
      "cell_type": "code",
      "source": [
        "jkt.shape"
      ],
      "metadata": {
        "id": "XxnPgKxNIj65",
        "outputId": "155e1f77-87b3-470d-a53e-213e871ae4bf",
        "colab": {
          "base_uri": "https://localhost:8080/"
        }
      },
      "execution_count": null,
      "outputs": [
        {
          "output_type": "execute_result",
          "data": {
            "text/plain": [
              "(121, 14)"
            ]
          },
          "metadata": {},
          "execution_count": 17
        }
      ]
    },
    {
      "cell_type": "markdown",
      "source": [
        "##**Bogor**"
      ],
      "metadata": {
        "id": "LoV_rMIQI7VU"
      }
    },
    {
      "cell_type": "code",
      "source": [
        "bgr.info()"
      ],
      "metadata": {
        "colab": {
          "base_uri": "https://localhost:8080/"
        },
        "id": "dDNFIUlII-4X",
        "outputId": "24084c49-76bd-4e5f-c7e0-3bdd217f61b2"
      },
      "execution_count": null,
      "outputs": [
        {
          "output_type": "stream",
          "name": "stdout",
          "text": [
            "<class 'pandas.core.frame.DataFrame'>\n",
            "RangeIndex: 999 entries, 0 to 998\n",
            "Data columns (total 26 columns):\n",
            " #   Column       Non-Null Count  Dtype  \n",
            "---  ------       --------------  -----  \n",
            " 0   created_at   193 non-null    object \n",
            " 1   LT           193 non-null    float64\n",
            " 2   LB           193 non-null    float64\n",
            " 3   KT           193 non-null    float64\n",
            " 4   KM           193 non-null    float64\n",
            " 5   garasi       193 non-null    float64\n",
            " 6   carport      193 non-null    float64\n",
            " 7   lokasi       193 non-null    object \n",
            " 8   sertifikat   193 non-null    object \n",
            " 9   listrik      193 non-null    float64\n",
            " 10  hadap        19 non-null     object \n",
            " 11  harga        193 non-null    float64\n",
            " 12  URL          193 non-null    object \n",
            " 13  deskripsi    193 non-null    object \n",
            " 14  Unnamed: 14  0 non-null      float64\n",
            " 15  Unnamed: 15  0 non-null      float64\n",
            " 16  Unnamed: 16  0 non-null      float64\n",
            " 17  Unnamed: 17  0 non-null      float64\n",
            " 18  Unnamed: 18  0 non-null      float64\n",
            " 19  Unnamed: 19  0 non-null      float64\n",
            " 20  Unnamed: 20  0 non-null      float64\n",
            " 21  Unnamed: 21  0 non-null      float64\n",
            " 22  Unnamed: 22  0 non-null      float64\n",
            " 23  Unnamed: 23  0 non-null      float64\n",
            " 24  Unnamed: 24  0 non-null      float64\n",
            " 25  Unnamed: 25  0 non-null      float64\n",
            "dtypes: float64(20), object(6)\n",
            "memory usage: 203.0+ KB\n"
          ]
        }
      ]
    },
    {
      "cell_type": "code",
      "source": [
        "bgr.isnull().all()"
      ],
      "metadata": {
        "colab": {
          "base_uri": "https://localhost:8080/"
        },
        "id": "dowOW6f3JCgh",
        "outputId": "709ef16c-626e-472a-f6e4-887f86d8ac02"
      },
      "execution_count": null,
      "outputs": [
        {
          "output_type": "execute_result",
          "data": {
            "text/plain": [
              "created_at     False\n",
              "LT             False\n",
              "LB             False\n",
              "KT             False\n",
              "KM             False\n",
              "garasi         False\n",
              "carport        False\n",
              "lokasi         False\n",
              "sertifikat     False\n",
              "listrik        False\n",
              "hadap          False\n",
              "harga          False\n",
              "URL            False\n",
              "deskripsi      False\n",
              "Unnamed: 14     True\n",
              "Unnamed: 15     True\n",
              "Unnamed: 16     True\n",
              "Unnamed: 17     True\n",
              "Unnamed: 18     True\n",
              "Unnamed: 19     True\n",
              "Unnamed: 20     True\n",
              "Unnamed: 21     True\n",
              "Unnamed: 22     True\n",
              "Unnamed: 23     True\n",
              "Unnamed: 24     True\n",
              "Unnamed: 25     True\n",
              "dtype: bool"
            ]
          },
          "metadata": {},
          "execution_count": 19
        }
      ]
    },
    {
      "cell_type": "code",
      "source": [
        "bgr.drop(['Unnamed: 14','Unnamed: 15','Unnamed: 16','Unnamed: 17','Unnamed: 18','Unnamed: 19','Unnamed: 20','Unnamed: 21','Unnamed: 22','Unnamed: 23','Unnamed: 24','Unnamed: 25'], axis=1, inplace=True)"
      ],
      "metadata": {
        "id": "ucRByi69JOB0"
      },
      "execution_count": null,
      "outputs": []
    },
    {
      "cell_type": "code",
      "source": [
        "bgr.isna().sum()"
      ],
      "metadata": {
        "colab": {
          "base_uri": "https://localhost:8080/"
        },
        "id": "6KaxGIYkJSr9",
        "outputId": "89567444-635a-43c4-da94-853119956018"
      },
      "execution_count": null,
      "outputs": [
        {
          "output_type": "execute_result",
          "data": {
            "text/plain": [
              "created_at    806\n",
              "LT            806\n",
              "LB            806\n",
              "KT            806\n",
              "KM            806\n",
              "garasi        806\n",
              "carport       806\n",
              "lokasi        806\n",
              "sertifikat    806\n",
              "listrik       806\n",
              "hadap         980\n",
              "harga         806\n",
              "URL           806\n",
              "deskripsi     806\n",
              "dtype: int64"
            ]
          },
          "metadata": {},
          "execution_count": 21
        }
      ]
    },
    {
      "cell_type": "code",
      "source": [
        "bgr = bgr.drop(bgr.index[193:999])\n",
        "bgr.shape"
      ],
      "metadata": {
        "colab": {
          "base_uri": "https://localhost:8080/"
        },
        "id": "bhnuqbStJQVw",
        "outputId": "a5fe0c30-8f24-4f1d-c173-40f1e72e3447"
      },
      "execution_count": null,
      "outputs": [
        {
          "output_type": "execute_result",
          "data": {
            "text/plain": [
              "(193, 14)"
            ]
          },
          "metadata": {},
          "execution_count": 22
        }
      ]
    },
    {
      "cell_type": "markdown",
      "source": [
        "# Tangerang"
      ],
      "metadata": {
        "id": "ERIgdd-rJ46x"
      }
    },
    {
      "cell_type": "code",
      "source": [
        "tgr.info()"
      ],
      "metadata": {
        "colab": {
          "base_uri": "https://localhost:8080/"
        },
        "id": "fw1vOTy_J6Ec",
        "outputId": "cc1a03b0-7c58-4d2b-e964-ecd2677c33ec"
      },
      "execution_count": null,
      "outputs": [
        {
          "output_type": "stream",
          "name": "stdout",
          "text": [
            "<class 'pandas.core.frame.DataFrame'>\n",
            "RangeIndex: 128 entries, 0 to 127\n",
            "Data columns (total 26 columns):\n",
            " #   Column       Non-Null Count  Dtype  \n",
            "---  ------       --------------  -----  \n",
            " 0   created_at   124 non-null    object \n",
            " 1   LT           124 non-null    float64\n",
            " 2   LB           124 non-null    float64\n",
            " 3   KT           124 non-null    float64\n",
            " 4   KM           124 non-null    float64\n",
            " 5   garasi       38 non-null     float64\n",
            " 6   carport      92 non-null     float64\n",
            " 7   lokasi       124 non-null    object \n",
            " 8   sertifikat   122 non-null    object \n",
            " 9   listrik      111 non-null    float64\n",
            " 10  hadap        49 non-null     object \n",
            " 11  harga        124 non-null    float64\n",
            " 12  URL          124 non-null    object \n",
            " 13  deskripsi    124 non-null    object \n",
            " 14  Unnamed: 14  0 non-null      float64\n",
            " 15  Unnamed: 15  0 non-null      float64\n",
            " 16  Unnamed: 16  0 non-null      float64\n",
            " 17  Unnamed: 17  0 non-null      float64\n",
            " 18  Unnamed: 18  0 non-null      float64\n",
            " 19  Unnamed: 19  0 non-null      float64\n",
            " 20  Unnamed: 20  0 non-null      float64\n",
            " 21  Unnamed: 21  0 non-null      float64\n",
            " 22  Unnamed: 22  0 non-null      float64\n",
            " 23  Unnamed: 23  0 non-null      float64\n",
            " 24  Unnamed: 24  0 non-null      float64\n",
            " 25  Unnamed: 25  0 non-null      float64\n",
            "dtypes: float64(20), object(6)\n",
            "memory usage: 26.1+ KB\n"
          ]
        }
      ]
    },
    {
      "cell_type": "code",
      "source": [
        "tgr.isnull().all()"
      ],
      "metadata": {
        "colab": {
          "base_uri": "https://localhost:8080/"
        },
        "id": "Rn2A7D7vJ9ED",
        "outputId": "99c18df0-5397-45db-fd54-3279b41f0185"
      },
      "execution_count": null,
      "outputs": [
        {
          "output_type": "execute_result",
          "data": {
            "text/plain": [
              "created_at     False\n",
              "LT             False\n",
              "LB             False\n",
              "KT             False\n",
              "KM             False\n",
              "garasi         False\n",
              "carport        False\n",
              "lokasi         False\n",
              "sertifikat     False\n",
              "listrik        False\n",
              "hadap          False\n",
              "harga          False\n",
              "URL            False\n",
              "deskripsi      False\n",
              "Unnamed: 14     True\n",
              "Unnamed: 15     True\n",
              "Unnamed: 16     True\n",
              "Unnamed: 17     True\n",
              "Unnamed: 18     True\n",
              "Unnamed: 19     True\n",
              "Unnamed: 20     True\n",
              "Unnamed: 21     True\n",
              "Unnamed: 22     True\n",
              "Unnamed: 23     True\n",
              "Unnamed: 24     True\n",
              "Unnamed: 25     True\n",
              "dtype: bool"
            ]
          },
          "metadata": {},
          "execution_count": 24
        }
      ]
    },
    {
      "cell_type": "code",
      "source": [
        "tgr.drop(['Unnamed: 14','Unnamed: 15','Unnamed: 16','Unnamed: 17','Unnamed: 18','Unnamed: 19','Unnamed: 20','Unnamed: 21','Unnamed: 22','Unnamed: 23','Unnamed: 24','Unnamed: 25'], axis=1, inplace=True)"
      ],
      "metadata": {
        "id": "szOGJSbwKJ8d"
      },
      "execution_count": null,
      "outputs": []
    },
    {
      "cell_type": "code",
      "source": [
        "tgr.isna().sum()"
      ],
      "metadata": {
        "id": "sd56_crRKOfU",
        "colab": {
          "base_uri": "https://localhost:8080/"
        },
        "outputId": "47495193-83d7-424d-d948-601e201514b7"
      },
      "execution_count": null,
      "outputs": [
        {
          "output_type": "execute_result",
          "data": {
            "text/plain": [
              "created_at     4\n",
              "LT             4\n",
              "LB             4\n",
              "KT             4\n",
              "KM             4\n",
              "garasi        90\n",
              "carport       36\n",
              "lokasi         4\n",
              "sertifikat     6\n",
              "listrik       17\n",
              "hadap         79\n",
              "harga          4\n",
              "URL            4\n",
              "deskripsi      4\n",
              "dtype: int64"
            ]
          },
          "metadata": {},
          "execution_count": 26
        }
      ]
    },
    {
      "cell_type": "code",
      "source": [
        "tgr = tgr.drop(tgr.index[124:128])\n",
        "tgr.shape"
      ],
      "metadata": {
        "colab": {
          "base_uri": "https://localhost:8080/"
        },
        "id": "K8l94hq-KpZf",
        "outputId": "d77e17b7-c7c7-4b35-8b3f-c5410fb6fc6b"
      },
      "execution_count": null,
      "outputs": [
        {
          "output_type": "execute_result",
          "data": {
            "text/plain": [
              "(124, 14)"
            ]
          },
          "metadata": {},
          "execution_count": 27
        }
      ]
    },
    {
      "cell_type": "markdown",
      "source": [
        "# Depok"
      ],
      "metadata": {
        "id": "rW-olJs9K0gW"
      }
    },
    {
      "cell_type": "code",
      "source": [
        "dpk.info()"
      ],
      "metadata": {
        "colab": {
          "base_uri": "https://localhost:8080/"
        },
        "id": "mYwlkFOvK1a8",
        "outputId": "e910a118-eb85-4c15-f5d3-bb088f524900"
      },
      "execution_count": null,
      "outputs": [
        {
          "output_type": "stream",
          "name": "stdout",
          "text": [
            "<class 'pandas.core.frame.DataFrame'>\n",
            "RangeIndex: 998 entries, 0 to 997\n",
            "Data columns (total 26 columns):\n",
            " #   Column       Non-Null Count  Dtype  \n",
            "---  ------       --------------  -----  \n",
            " 0   created_at   119 non-null    object \n",
            " 1   LT           120 non-null    object \n",
            " 2   LB           118 non-null    float64\n",
            " 3   KT           118 non-null    float64\n",
            " 4   KM           118 non-null    float64\n",
            " 5   garasi       25 non-null     float64\n",
            " 6   carport      94 non-null     float64\n",
            " 7   lokasi       118 non-null    object \n",
            " 8   sertifikat   118 non-null    object \n",
            " 9   listrik      103 non-null    float64\n",
            " 10  hadap        62 non-null     object \n",
            " 11  harga        118 non-null    float64\n",
            " 12  URL          118 non-null    object \n",
            " 13  deskripsi    118 non-null    object \n",
            " 14  Unnamed: 14  0 non-null      float64\n",
            " 15  Unnamed: 15  0 non-null      float64\n",
            " 16  Unnamed: 16  0 non-null      float64\n",
            " 17  Unnamed: 17  0 non-null      float64\n",
            " 18  Unnamed: 18  0 non-null      float64\n",
            " 19  Unnamed: 19  0 non-null      float64\n",
            " 20  Unnamed: 20  0 non-null      float64\n",
            " 21  Unnamed: 21  0 non-null      float64\n",
            " 22  Unnamed: 22  0 non-null      float64\n",
            " 23  Unnamed: 23  0 non-null      float64\n",
            " 24  Unnamed: 24  0 non-null      float64\n",
            " 25  Unnamed: 25  0 non-null      float64\n",
            "dtypes: float64(19), object(7)\n",
            "memory usage: 202.8+ KB\n"
          ]
        }
      ]
    },
    {
      "cell_type": "code",
      "source": [
        "dpk.isnull().all()"
      ],
      "metadata": {
        "colab": {
          "base_uri": "https://localhost:8080/"
        },
        "id": "k9CmDlnOK5YD",
        "outputId": "cabc6eab-74a4-4241-dc25-05eb1cc1e74f"
      },
      "execution_count": null,
      "outputs": [
        {
          "output_type": "execute_result",
          "data": {
            "text/plain": [
              "created_at     False\n",
              "LT             False\n",
              "LB             False\n",
              "KT             False\n",
              "KM             False\n",
              "garasi         False\n",
              "carport        False\n",
              "lokasi         False\n",
              "sertifikat     False\n",
              "listrik        False\n",
              "hadap          False\n",
              "harga          False\n",
              "URL            False\n",
              "deskripsi      False\n",
              "Unnamed: 14     True\n",
              "Unnamed: 15     True\n",
              "Unnamed: 16     True\n",
              "Unnamed: 17     True\n",
              "Unnamed: 18     True\n",
              "Unnamed: 19     True\n",
              "Unnamed: 20     True\n",
              "Unnamed: 21     True\n",
              "Unnamed: 22     True\n",
              "Unnamed: 23     True\n",
              "Unnamed: 24     True\n",
              "Unnamed: 25     True\n",
              "dtype: bool"
            ]
          },
          "metadata": {},
          "execution_count": 29
        }
      ]
    },
    {
      "cell_type": "code",
      "source": [
        "dpk.drop(['Unnamed: 14','Unnamed: 15','Unnamed: 16','Unnamed: 17','Unnamed: 18','Unnamed: 19','Unnamed: 20','Unnamed: 21','Unnamed: 22','Unnamed: 23','Unnamed: 24','Unnamed: 25'], axis=1, inplace=True)"
      ],
      "metadata": {
        "id": "-TIZJXeoK8Ut"
      },
      "execution_count": null,
      "outputs": []
    },
    {
      "cell_type": "code",
      "source": [
        "dpk.isna().sum()"
      ],
      "metadata": {
        "colab": {
          "base_uri": "https://localhost:8080/"
        },
        "id": "z0UU7KPaK_gz",
        "outputId": "4bf2546e-d84c-4e92-ee5c-9853eccb19c7"
      },
      "execution_count": null,
      "outputs": [
        {
          "output_type": "execute_result",
          "data": {
            "text/plain": [
              "created_at    879\n",
              "LT            878\n",
              "LB            880\n",
              "KT            880\n",
              "KM            880\n",
              "garasi        973\n",
              "carport       904\n",
              "lokasi        880\n",
              "sertifikat    880\n",
              "listrik       895\n",
              "hadap         936\n",
              "harga         880\n",
              "URL           880\n",
              "deskripsi     880\n",
              "dtype: int64"
            ]
          },
          "metadata": {},
          "execution_count": 31
        }
      ]
    },
    {
      "cell_type": "code",
      "source": [
        "dpk = dpk.drop(dpk.index[118:997])\n",
        "dpk.shape"
      ],
      "metadata": {
        "colab": {
          "base_uri": "https://localhost:8080/"
        },
        "id": "oWpijDbSLEAy",
        "outputId": "d5279d80-6dd1-4f3c-f7af-a4247fedfa8e"
      },
      "execution_count": null,
      "outputs": [
        {
          "output_type": "execute_result",
          "data": {
            "text/plain": [
              "(119, 14)"
            ]
          },
          "metadata": {},
          "execution_count": 32
        }
      ]
    },
    {
      "cell_type": "markdown",
      "source": [
        "# Bekasi"
      ],
      "metadata": {
        "id": "YldZANW1LSnA"
      }
    },
    {
      "cell_type": "code",
      "source": [
        "bks.info()"
      ],
      "metadata": {
        "colab": {
          "base_uri": "https://localhost:8080/"
        },
        "id": "anu5U8kvLTY_",
        "outputId": "368263f7-fa58-4870-e01a-7c4ca9df8085"
      },
      "execution_count": null,
      "outputs": [
        {
          "output_type": "stream",
          "name": "stdout",
          "text": [
            "<class 'pandas.core.frame.DataFrame'>\n",
            "RangeIndex: 992 entries, 0 to 991\n",
            "Data columns (total 26 columns):\n",
            " #   Column       Non-Null Count  Dtype  \n",
            "---  ------       --------------  -----  \n",
            " 0   created_at   107 non-null    object \n",
            " 1   LT           107 non-null    float64\n",
            " 2   LB           107 non-null    float64\n",
            " 3   KT           107 non-null    float64\n",
            " 4   KM           106 non-null    float64\n",
            " 5   garasi       33 non-null     float64\n",
            " 6   carport      81 non-null     float64\n",
            " 7   lokasi       107 non-null    object \n",
            " 8   sertifikat   106 non-null    object \n",
            " 9   listrik      101 non-null    float64\n",
            " 10  hadap        48 non-null     object \n",
            " 11  harga        107 non-null    float64\n",
            " 12  URL          107 non-null    object \n",
            " 13  deskripsi    107 non-null    object \n",
            " 14  Unnamed: 14  0 non-null      float64\n",
            " 15  Unnamed: 15  0 non-null      float64\n",
            " 16  Unnamed: 16  0 non-null      float64\n",
            " 17  Unnamed: 17  0 non-null      float64\n",
            " 18  Unnamed: 18  0 non-null      float64\n",
            " 19  Unnamed: 19  0 non-null      float64\n",
            " 20  Unnamed: 20  0 non-null      float64\n",
            " 21  Unnamed: 21  0 non-null      float64\n",
            " 22  Unnamed: 22  0 non-null      float64\n",
            " 23  Unnamed: 23  0 non-null      float64\n",
            " 24  Unnamed: 24  0 non-null      float64\n",
            " 25  Unnamed: 25  0 non-null      float64\n",
            "dtypes: float64(20), object(6)\n",
            "memory usage: 201.6+ KB\n"
          ]
        }
      ]
    },
    {
      "cell_type": "code",
      "source": [
        "bks.isnull().all()"
      ],
      "metadata": {
        "colab": {
          "base_uri": "https://localhost:8080/"
        },
        "id": "sSbZmqLkLVNq",
        "outputId": "32a62d78-65b8-467c-d952-da014f360723"
      },
      "execution_count": null,
      "outputs": [
        {
          "output_type": "execute_result",
          "data": {
            "text/plain": [
              "created_at     False\n",
              "LT             False\n",
              "LB             False\n",
              "KT             False\n",
              "KM             False\n",
              "garasi         False\n",
              "carport        False\n",
              "lokasi         False\n",
              "sertifikat     False\n",
              "listrik        False\n",
              "hadap          False\n",
              "harga          False\n",
              "URL            False\n",
              "deskripsi      False\n",
              "Unnamed: 14     True\n",
              "Unnamed: 15     True\n",
              "Unnamed: 16     True\n",
              "Unnamed: 17     True\n",
              "Unnamed: 18     True\n",
              "Unnamed: 19     True\n",
              "Unnamed: 20     True\n",
              "Unnamed: 21     True\n",
              "Unnamed: 22     True\n",
              "Unnamed: 23     True\n",
              "Unnamed: 24     True\n",
              "Unnamed: 25     True\n",
              "dtype: bool"
            ]
          },
          "metadata": {},
          "execution_count": 34
        }
      ]
    },
    {
      "cell_type": "code",
      "source": [
        "bks.drop(['Unnamed: 14','Unnamed: 15','Unnamed: 16','Unnamed: 17','Unnamed: 18','Unnamed: 19','Unnamed: 20','Unnamed: 21','Unnamed: 22','Unnamed: 23','Unnamed: 24','Unnamed: 25'], axis=1, inplace=True)"
      ],
      "metadata": {
        "id": "Idz5jFMFLYxq"
      },
      "execution_count": null,
      "outputs": []
    },
    {
      "cell_type": "code",
      "source": [
        "bks.isna().sum()"
      ],
      "metadata": {
        "colab": {
          "base_uri": "https://localhost:8080/"
        },
        "id": "ISbVf_nsLcDT",
        "outputId": "ab3ad7ab-6ee5-4575-a3d0-33eea534dd00"
      },
      "execution_count": null,
      "outputs": [
        {
          "output_type": "execute_result",
          "data": {
            "text/plain": [
              "created_at    885\n",
              "LT            885\n",
              "LB            885\n",
              "KT            885\n",
              "KM            886\n",
              "garasi        959\n",
              "carport       911\n",
              "lokasi        885\n",
              "sertifikat    886\n",
              "listrik       891\n",
              "hadap         944\n",
              "harga         885\n",
              "URL           885\n",
              "deskripsi     885\n",
              "dtype: int64"
            ]
          },
          "metadata": {},
          "execution_count": 36
        }
      ]
    },
    {
      "cell_type": "code",
      "source": [
        "bks = bks.drop(bks.index[107:992])\n",
        "bks.shape"
      ],
      "metadata": {
        "colab": {
          "base_uri": "https://localhost:8080/"
        },
        "id": "_WVqq7u9LkBq",
        "outputId": "d4bb7dea-f266-422a-89ab-a5a3a4c53405"
      },
      "execution_count": null,
      "outputs": [
        {
          "output_type": "execute_result",
          "data": {
            "text/plain": [
              "(107, 14)"
            ]
          },
          "metadata": {},
          "execution_count": 37
        }
      ]
    },
    {
      "cell_type": "markdown",
      "source": [
        "# Perbandingan Harga"
      ],
      "metadata": {
        "id": "Jehx2s2mMKqh"
      }
    },
    {
      "cell_type": "code",
      "source": [],
      "metadata": {
        "id": "VuFhoc9IMnaz"
      },
      "execution_count": null,
      "outputs": []
    },
    {
      "cell_type": "markdown",
      "source": [
        "##**Explaratory Data Analysis**"
      ],
      "metadata": {
        "id": "PQODn9KlDC0x"
      }
    },
    {
      "cell_type": "markdown",
      "source": [
        "##**Conclussion**\n",
        "\n",
        "\n",
        "1.   List item\n",
        "2.   List item\n",
        "\n",
        "\n",
        "##**Recommendation**\n",
        "\n",
        "\n",
        "1.   List item\n",
        "2.   List item\n",
        "\n",
        "\n",
        "\n"
      ],
      "metadata": {
        "id": "9OPoZ8VCDWdU"
      }
    }
  ]
}